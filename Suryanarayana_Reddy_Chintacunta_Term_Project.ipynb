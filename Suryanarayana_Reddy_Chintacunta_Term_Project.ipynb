{
 "cells": [
  {
   "cell_type": "markdown",
   "id": "c931d749",
   "metadata": {},
   "source": [
    "# Term Project\n",
    "- The purpose of this project is to try different classification methods and apply best practices."
   ]
  },
  {
   "cell_type": "markdown",
   "id": "fb0bf5c0",
   "metadata": {},
   "source": [
    "## Importing Libraries"
   ]
  },
  {
   "cell_type": "code",
   "execution_count": 1,
   "id": "8c62a8e3",
   "metadata": {},
   "outputs": [],
   "source": [
    "import pandas as pd\n",
    "import seaborn as sns\n",
    "from sklearn.model_selection import train_test_split\n",
    "import matplotlib.pyplot as plt"
   ]
  },
  {
   "cell_type": "markdown",
   "id": "c70d13c9",
   "metadata": {},
   "source": [
    "#### Below script is to ignore some unnecssary warnings"
   ]
  },
  {
   "cell_type": "code",
   "execution_count": 2,
   "id": "47e3fb3e",
   "metadata": {},
   "outputs": [],
   "source": [
    "import warnings\n",
    "warnings.filterwarnings(\"ignore\")"
   ]
  },
  {
   "cell_type": "code",
   "execution_count": 3,
   "id": "93dcda10",
   "metadata": {},
   "outputs": [
    {
     "data": {
      "text/html": [
       "<div>\n",
       "<style scoped>\n",
       "    .dataframe tbody tr th:only-of-type {\n",
       "        vertical-align: middle;\n",
       "    }\n",
       "\n",
       "    .dataframe tbody tr th {\n",
       "        vertical-align: top;\n",
       "    }\n",
       "\n",
       "    .dataframe thead th {\n",
       "        text-align: right;\n",
       "    }\n",
       "</style>\n",
       "<table border=\"1\" class=\"dataframe\">\n",
       "  <thead>\n",
       "    <tr style=\"text-align: right;\">\n",
       "      <th></th>\n",
       "      <th>Virtual</th>\n",
       "      <th>Offset</th>\n",
       "      <th>loc</th>\n",
       "      <th>Import</th>\n",
       "      <th>Imports</th>\n",
       "      <th>var</th>\n",
       "      <th>Forwarder</th>\n",
       "      <th>UINT</th>\n",
       "      <th>LONG</th>\n",
       "      <th>BOOL</th>\n",
       "      <th>...</th>\n",
       "      <th>Img99</th>\n",
       "      <th>Img100</th>\n",
       "      <th>Img101</th>\n",
       "      <th>Img102</th>\n",
       "      <th>Img103</th>\n",
       "      <th>Img104</th>\n",
       "      <th>Img105</th>\n",
       "      <th>Img106</th>\n",
       "      <th>Img107</th>\n",
       "      <th>target</th>\n",
       "    </tr>\n",
       "  </thead>\n",
       "  <tbody>\n",
       "    <tr>\n",
       "      <th>0</th>\n",
       "      <td>3.0</td>\n",
       "      <td>3.0</td>\n",
       "      <td>689.0</td>\n",
       "      <td>18.000000</td>\n",
       "      <td>6.0</td>\n",
       "      <td>890.0</td>\n",
       "      <td>6.000000</td>\n",
       "      <td>39.0</td>\n",
       "      <td>17.000000</td>\n",
       "      <td>88.0</td>\n",
       "      <td>...</td>\n",
       "      <td>-208196.847822</td>\n",
       "      <td>149454.443336</td>\n",
       "      <td>330552.774213</td>\n",
       "      <td>133907.410063</td>\n",
       "      <td>44038.800343</td>\n",
       "      <td>55156.067737</td>\n",
       "      <td>-77588.974897</td>\n",
       "      <td>171979.000000</td>\n",
       "      <td>162674.0</td>\n",
       "      <td>2</td>\n",
       "    </tr>\n",
       "    <tr>\n",
       "      <th>1</th>\n",
       "      <td>3.0</td>\n",
       "      <td>3.0</td>\n",
       "      <td>583.0</td>\n",
       "      <td>15.000000</td>\n",
       "      <td>5.0</td>\n",
       "      <td>1574.0</td>\n",
       "      <td>8640.382774</td>\n",
       "      <td>6.0</td>\n",
       "      <td>7.000000</td>\n",
       "      <td>30.0</td>\n",
       "      <td>...</td>\n",
       "      <td>36209.864030</td>\n",
       "      <td>221318.549792</td>\n",
       "      <td>-1568.194718</td>\n",
       "      <td>22651.037591</td>\n",
       "      <td>-144906.975987</td>\n",
       "      <td>-33489.566102</td>\n",
       "      <td>157701.356695</td>\n",
       "      <td>7702.000000</td>\n",
       "      <td>6551.0</td>\n",
       "      <td>8</td>\n",
       "    </tr>\n",
       "    <tr>\n",
       "      <th>2</th>\n",
       "      <td>3.0</td>\n",
       "      <td>4.0</td>\n",
       "      <td>2796.0</td>\n",
       "      <td>15.000000</td>\n",
       "      <td>5.0</td>\n",
       "      <td>625.0</td>\n",
       "      <td>5.000000</td>\n",
       "      <td>58.0</td>\n",
       "      <td>11.000000</td>\n",
       "      <td>152.0</td>\n",
       "      <td>...</td>\n",
       "      <td>88398.670923</td>\n",
       "      <td>66550.556919</td>\n",
       "      <td>5404.362294</td>\n",
       "      <td>13947.925003</td>\n",
       "      <td>-48559.885445</td>\n",
       "      <td>257023.562444</td>\n",
       "      <td>-204889.973046</td>\n",
       "      <td>151324.169975</td>\n",
       "      <td>12946.0</td>\n",
       "      <td>6</td>\n",
       "    </tr>\n",
       "    <tr>\n",
       "      <th>3</th>\n",
       "      <td>3.0</td>\n",
       "      <td>3.0</td>\n",
       "      <td>373.0</td>\n",
       "      <td>2726.071722</td>\n",
       "      <td>9.0</td>\n",
       "      <td>615.0</td>\n",
       "      <td>9.000000</td>\n",
       "      <td>16.0</td>\n",
       "      <td>98583.277889</td>\n",
       "      <td>34.0</td>\n",
       "      <td>...</td>\n",
       "      <td>-157101.258148</td>\n",
       "      <td>-60336.395075</td>\n",
       "      <td>157629.928962</td>\n",
       "      <td>117458.409503</td>\n",
       "      <td>62076.273381</td>\n",
       "      <td>98733.489947</td>\n",
       "      <td>-51461.636374</td>\n",
       "      <td>122247.000000</td>\n",
       "      <td>98621.0</td>\n",
       "      <td>4</td>\n",
       "    </tr>\n",
       "    <tr>\n",
       "      <th>4</th>\n",
       "      <td>3.0</td>\n",
       "      <td>3.0</td>\n",
       "      <td>77.0</td>\n",
       "      <td>12.000000</td>\n",
       "      <td>4.0</td>\n",
       "      <td>66.0</td>\n",
       "      <td>91945.635853</td>\n",
       "      <td>3.0</td>\n",
       "      <td>0.000000</td>\n",
       "      <td>5.0</td>\n",
       "      <td>...</td>\n",
       "      <td>32595.648968</td>\n",
       "      <td>-228909.737896</td>\n",
       "      <td>-87033.363460</td>\n",
       "      <td>131606.196188</td>\n",
       "      <td>-118625.690367</td>\n",
       "      <td>89326.297602</td>\n",
       "      <td>-84991.427204</td>\n",
       "      <td>15501.000000</td>\n",
       "      <td>11864.0</td>\n",
       "      <td>1</td>\n",
       "    </tr>\n",
       "  </tbody>\n",
       "</table>\n",
       "<p>5 rows × 1805 columns</p>\n",
       "</div>"
      ],
      "text/plain": [
       "   Virtual  Offset     loc       Import  Imports     var     Forwarder  UINT  \\\n",
       "0      3.0     3.0   689.0    18.000000      6.0   890.0      6.000000  39.0   \n",
       "1      3.0     3.0   583.0    15.000000      5.0  1574.0   8640.382774   6.0   \n",
       "2      3.0     4.0  2796.0    15.000000      5.0   625.0      5.000000  58.0   \n",
       "3      3.0     3.0   373.0  2726.071722      9.0   615.0      9.000000  16.0   \n",
       "4      3.0     3.0    77.0    12.000000      4.0    66.0  91945.635853   3.0   \n",
       "\n",
       "           LONG   BOOL  ...          Img99         Img100         Img101  \\\n",
       "0     17.000000   88.0  ... -208196.847822  149454.443336  330552.774213   \n",
       "1      7.000000   30.0  ...   36209.864030  221318.549792   -1568.194718   \n",
       "2     11.000000  152.0  ...   88398.670923   66550.556919    5404.362294   \n",
       "3  98583.277889   34.0  ... -157101.258148  -60336.395075  157629.928962   \n",
       "4      0.000000    5.0  ...   32595.648968 -228909.737896  -87033.363460   \n",
       "\n",
       "          Img102         Img103         Img104         Img105         Img106  \\\n",
       "0  133907.410063   44038.800343   55156.067737  -77588.974897  171979.000000   \n",
       "1   22651.037591 -144906.975987  -33489.566102  157701.356695    7702.000000   \n",
       "2   13947.925003  -48559.885445  257023.562444 -204889.973046  151324.169975   \n",
       "3  117458.409503   62076.273381   98733.489947  -51461.636374  122247.000000   \n",
       "4  131606.196188 -118625.690367   89326.297602  -84991.427204   15501.000000   \n",
       "\n",
       "     Img107  target  \n",
       "0  162674.0       2  \n",
       "1    6551.0       8  \n",
       "2   12946.0       6  \n",
       "3   98621.0       4  \n",
       "4   11864.0       1  \n",
       "\n",
       "[5 rows x 1805 columns]"
      ]
     },
     "execution_count": 3,
     "metadata": {},
     "output_type": "execute_result"
    }
   ],
   "source": [
    "df = pd.read_csv(\"data602_exam.csv\")\n",
    "df.head()"
   ]
  },
  {
   "cell_type": "markdown",
   "id": "b4f15ffe",
   "metadata": {},
   "source": [
    "# EDA"
   ]
  },
  {
   "cell_type": "markdown",
   "id": "cb7e1863",
   "metadata": {},
   "source": [
    "## Here it is how we have observed the segregation of the data.\n",
    "#### Types\n",
    "- Registers\n",
    "\n",
    "The number of times various different registers are called\n",
    "\n",
    "- Opcodes\n",
    "\n",
    "The number of times various different opcodes are called\n",
    "\n",
    "- APIs\n",
    "\n",
    "The number of times various different extern system functions are called. \n",
    "\n",
    "- Misc\n",
    "\n",
    "The number of times various kinds of variables are defined. "
   ]
  },
  {
   "cell_type": "code",
   "execution_count": 4,
   "id": "794ce100",
   "metadata": {},
   "outputs": [
    {
     "name": "stdout",
     "output_type": "stream",
     "text": [
      "<class 'pandas.core.frame.DataFrame'>\n",
      "RangeIndex: 4999 entries, 0 to 4998\n",
      "Columns: 1805 entries, Virtual to target\n",
      "dtypes: float64(1804), int64(1)\n",
      "memory usage: 68.8 MB\n"
     ]
    }
   ],
   "source": [
    "df.info()"
   ]
  },
  {
   "cell_type": "markdown",
   "id": "858c0a3b",
   "metadata": {},
   "source": [
    "### For each of the columns the means varies a lot, we have to scale the data to get the proper predictions."
   ]
  },
  {
   "cell_type": "code",
   "execution_count": 5,
   "id": "d01e81d0",
   "metadata": {},
   "outputs": [
    {
     "data": {
      "text/html": [
       "<div>\n",
       "<style scoped>\n",
       "    .dataframe tbody tr th:only-of-type {\n",
       "        vertical-align: middle;\n",
       "    }\n",
       "\n",
       "    .dataframe tbody tr th {\n",
       "        vertical-align: top;\n",
       "    }\n",
       "\n",
       "    .dataframe thead th {\n",
       "        text-align: right;\n",
       "    }\n",
       "</style>\n",
       "<table border=\"1\" class=\"dataframe\">\n",
       "  <thead>\n",
       "    <tr style=\"text-align: right;\">\n",
       "      <th></th>\n",
       "      <th>count</th>\n",
       "      <th>mean</th>\n",
       "      <th>std</th>\n",
       "      <th>min</th>\n",
       "      <th>25%</th>\n",
       "      <th>50%</th>\n",
       "      <th>75%</th>\n",
       "      <th>max</th>\n",
       "    </tr>\n",
       "  </thead>\n",
       "  <tbody>\n",
       "    <tr>\n",
       "      <th>Virtual</th>\n",
       "      <td>4999.0</td>\n",
       "      <td>2413.316145</td>\n",
       "      <td>12506.374487</td>\n",
       "      <td>0.000000</td>\n",
       "      <td>3.000000</td>\n",
       "      <td>3.000000</td>\n",
       "      <td>4.000000</td>\n",
       "      <td>99416.349008</td>\n",
       "    </tr>\n",
       "    <tr>\n",
       "      <th>Offset</th>\n",
       "      <td>4999.0</td>\n",
       "      <td>2659.311487</td>\n",
       "      <td>13159.966494</td>\n",
       "      <td>0.000000</td>\n",
       "      <td>3.000000</td>\n",
       "      <td>3.000000</td>\n",
       "      <td>4.000000</td>\n",
       "      <td>99973.742656</td>\n",
       "    </tr>\n",
       "    <tr>\n",
       "      <th>loc</th>\n",
       "      <td>4999.0</td>\n",
       "      <td>4424.891220</td>\n",
       "      <td>13604.624599</td>\n",
       "      <td>0.000000</td>\n",
       "      <td>77.000000</td>\n",
       "      <td>526.000000</td>\n",
       "      <td>1977.500000</td>\n",
       "      <td>107775.000000</td>\n",
       "    </tr>\n",
       "    <tr>\n",
       "      <th>Import</th>\n",
       "      <td>4999.0</td>\n",
       "      <td>2291.214822</td>\n",
       "      <td>11996.827931</td>\n",
       "      <td>0.000000</td>\n",
       "      <td>6.000000</td>\n",
       "      <td>12.000000</td>\n",
       "      <td>18.000000</td>\n",
       "      <td>99364.479576</td>\n",
       "    </tr>\n",
       "    <tr>\n",
       "      <th>Imports</th>\n",
       "      <td>4999.0</td>\n",
       "      <td>2512.272757</td>\n",
       "      <td>12656.467627</td>\n",
       "      <td>0.000000</td>\n",
       "      <td>4.000000</td>\n",
       "      <td>4.000000</td>\n",
       "      <td>7.000000</td>\n",
       "      <td>99838.164777</td>\n",
       "    </tr>\n",
       "    <tr>\n",
       "      <th>...</th>\n",
       "      <td>...</td>\n",
       "      <td>...</td>\n",
       "      <td>...</td>\n",
       "      <td>...</td>\n",
       "      <td>...</td>\n",
       "      <td>...</td>\n",
       "      <td>...</td>\n",
       "      <td>...</td>\n",
       "    </tr>\n",
       "    <tr>\n",
       "      <th>Img104</th>\n",
       "      <td>4999.0</td>\n",
       "      <td>22032.274639</td>\n",
       "      <td>109858.578170</td>\n",
       "      <td>-410986.193796</td>\n",
       "      <td>-50016.264131</td>\n",
       "      <td>21454.161075</td>\n",
       "      <td>96288.509357</td>\n",
       "      <td>443685.869973</td>\n",
       "    </tr>\n",
       "    <tr>\n",
       "      <th>Img105</th>\n",
       "      <td>4999.0</td>\n",
       "      <td>9505.453675</td>\n",
       "      <td>106876.987983</td>\n",
       "      <td>-355679.953652</td>\n",
       "      <td>-63550.766114</td>\n",
       "      <td>9709.062906</td>\n",
       "      <td>82107.827536</td>\n",
       "      <td>437127.690431</td>\n",
       "    </tr>\n",
       "    <tr>\n",
       "      <th>Img106</th>\n",
       "      <td>4999.0</td>\n",
       "      <td>70574.781259</td>\n",
       "      <td>67871.038272</td>\n",
       "      <td>0.000000</td>\n",
       "      <td>13387.000000</td>\n",
       "      <td>67890.000000</td>\n",
       "      <td>88771.000000</td>\n",
       "      <td>412076.355373</td>\n",
       "    </tr>\n",
       "    <tr>\n",
       "      <th>Img107</th>\n",
       "      <td>4999.0</td>\n",
       "      <td>54803.742148</td>\n",
       "      <td>53395.251409</td>\n",
       "      <td>0.000000</td>\n",
       "      <td>8117.000000</td>\n",
       "      <td>49865.000000</td>\n",
       "      <td>68589.500000</td>\n",
       "      <td>300241.000000</td>\n",
       "    </tr>\n",
       "    <tr>\n",
       "      <th>target</th>\n",
       "      <td>4999.0</td>\n",
       "      <td>4.086817</td>\n",
       "      <td>2.677785</td>\n",
       "      <td>1.000000</td>\n",
       "      <td>2.000000</td>\n",
       "      <td>3.000000</td>\n",
       "      <td>6.000000</td>\n",
       "      <td>9.000000</td>\n",
       "    </tr>\n",
       "  </tbody>\n",
       "</table>\n",
       "<p>1805 rows × 8 columns</p>\n",
       "</div>"
      ],
      "text/plain": [
       "          count          mean            std            min           25%  \\\n",
       "Virtual  4999.0   2413.316145   12506.374487       0.000000      3.000000   \n",
       "Offset   4999.0   2659.311487   13159.966494       0.000000      3.000000   \n",
       "loc      4999.0   4424.891220   13604.624599       0.000000     77.000000   \n",
       "Import   4999.0   2291.214822   11996.827931       0.000000      6.000000   \n",
       "Imports  4999.0   2512.272757   12656.467627       0.000000      4.000000   \n",
       "...         ...           ...            ...            ...           ...   \n",
       "Img104   4999.0  22032.274639  109858.578170 -410986.193796 -50016.264131   \n",
       "Img105   4999.0   9505.453675  106876.987983 -355679.953652 -63550.766114   \n",
       "Img106   4999.0  70574.781259   67871.038272       0.000000  13387.000000   \n",
       "Img107   4999.0  54803.742148   53395.251409       0.000000   8117.000000   \n",
       "target   4999.0      4.086817       2.677785       1.000000      2.000000   \n",
       "\n",
       "                  50%           75%            max  \n",
       "Virtual      3.000000      4.000000   99416.349008  \n",
       "Offset       3.000000      4.000000   99973.742656  \n",
       "loc        526.000000   1977.500000  107775.000000  \n",
       "Import      12.000000     18.000000   99364.479576  \n",
       "Imports      4.000000      7.000000   99838.164777  \n",
       "...               ...           ...            ...  \n",
       "Img104   21454.161075  96288.509357  443685.869973  \n",
       "Img105    9709.062906  82107.827536  437127.690431  \n",
       "Img106   67890.000000  88771.000000  412076.355373  \n",
       "Img107   49865.000000  68589.500000  300241.000000  \n",
       "target       3.000000      6.000000       9.000000  \n",
       "\n",
       "[1805 rows x 8 columns]"
      ]
     },
     "execution_count": 5,
     "metadata": {},
     "output_type": "execute_result"
    }
   ],
   "source": [
    "df.describe().T"
   ]
  },
  {
   "cell_type": "markdown",
   "id": "d3dcef02",
   "metadata": {},
   "source": [
    "## As we can see in the below graph there are no spots\n",
    "Which means there are no null values in the data"
   ]
  },
  {
   "cell_type": "code",
   "execution_count": 6,
   "id": "1340cc14",
   "metadata": {},
   "outputs": [
    {
     "data": {
      "image/png": "[encoded data removed]",
      "text/plain": [
       "<Figure size 432x288 with 2 Axes>"
      ]
     },
     "metadata": {
      "needs_background": "light"
     },
     "output_type": "display_data"
    }
   ],
   "source": [
    "ax=sns.heatmap(df.isnull(),yticklabels=False)"
   ]
  },
  {
   "cell_type": "markdown",
   "id": "4d28497e",
   "metadata": {},
   "source": [
    "## It has been clearly seen that target 2 and 3 has higher occurances.\n",
    "As it seem Imbalanced"
   ]
  },
  {
   "cell_type": "code",
   "execution_count": 34,
   "id": "5eef0f0d",
   "metadata": {},
   "outputs": [
    {
     "data": {
      "image/png": "[encoded data removed]",
      "text/plain": [
       "<Figure size 1080x432 with 2 Axes>"
      ]
     },
     "metadata": {
      "needs_background": "light"
     },
     "output_type": "display_data"
    }
   ],
   "source": [
    "fig, ax=plt.subplots(1,2,figsize=(15,6))\n",
    "_ = sns.countplot(x='target', data=df, ax=ax[0])\n",
    "_ = df['target'].value_counts().plot.pie(autopct=\"%1.1f%%\", ax=ax[1])"
   ]
  },
  {
   "cell_type": "markdown",
   "id": "ac6b6d90",
   "metadata": {},
   "source": [
    "## Correlation\n",
    "There seems very less correlation but also due to the number of features it is tough to identify the correlations"
   ]
  },
  {
   "cell_type": "code",
   "execution_count": 8,
   "id": "aa9cb399",
   "metadata": {},
   "outputs": [
    {
     "data": {
      "text/plain": [
       "<AxesSubplot:>"
      ]
     },
     "execution_count": 8,
     "metadata": {},
     "output_type": "execute_result"
    },
    {
     "data": {
      "image/png": "[encoded data removed]",
      "text/plain": [
       "<Figure size 432x288 with 2 Axes>"
      ]
     },
     "metadata": {
      "needs_background": "light"
     },
     "output_type": "display_data"
    }
   ],
   "source": [
    "sns.heatmap(df.corr())"
   ]
  },
  {
   "cell_type": "code",
   "execution_count": 9,
   "id": "3b06111e",
   "metadata": {},
   "outputs": [],
   "source": [
    "X = df.drop(columns = ['target'])\n",
    "Y = df['target']\n",
    "X_train, X_test, y_train, y_test = train_test_split(X, Y, test_size = 0.3)"
   ]
  },
  {
   "cell_type": "markdown",
   "id": "dc7396f2",
   "metadata": {},
   "source": [
    "## Lets Train a Basic model to observe the Nature of the data.\n",
    "The Below Logistic Model will Let us know about how the data should be handled further."
   ]
  },
  {
   "cell_type": "markdown",
   "id": "1050c49c",
   "metadata": {},
   "source": [
    "# Logistic Regression"
   ]
  },
  {
   "cell_type": "code",
   "execution_count": 10,
   "id": "3f9eaaab",
   "metadata": {},
   "outputs": [],
   "source": [
    "from sklearn.preprocessing import StandardScaler\n",
    "sc = StandardScaler()\n",
    "X_train = sc.fit_transform(X_train)\n",
    "X_test = sc.transform(X_test)"
   ]
  },
  {
   "cell_type": "code",
   "execution_count": 11,
   "id": "7162d1d4",
   "metadata": {},
   "outputs": [],
   "source": [
    "# Fitting Logistic Regression to the Training set\n",
    "from sklearn.linear_model import LogisticRegression\n",
    "classifier = LogisticRegression(random_state = 0, solver='lbfgs', multi_class='auto')\n",
    "classifier.fit(X_train, y_train)\n",
    "# Predicting the Test set results\n",
    "y_pred = classifier.predict(X_test)\n"
   ]
  },
  {
   "cell_type": "code",
   "execution_count": 12,
   "id": "73a26328",
   "metadata": {},
   "outputs": [
    {
     "name": "stdout",
     "output_type": "stream",
     "text": [
      "Accuracy:  56.39999999999999\n"
     ]
    }
   ],
   "source": [
    "print(\"Accuracy: \", classifier.score(X_test, y_test) * 100)"
   ]
  },
  {
   "cell_type": "markdown",
   "id": "b20bfe01",
   "metadata": {},
   "source": [
    "## Feature Selection\n",
    "We will be using the `SelectFromModel` feature selection technique <br>\n",
    "Here after traning a basic logistic we will be using which give high importance to the features."
   ]
  },
  {
   "cell_type": "code",
   "execution_count": 13,
   "id": "0994d5b8",
   "metadata": {},
   "outputs": [],
   "source": [
    "from sklearn.linear_model import LogisticRegression\n",
    "from sklearn.feature_selection import SelectFromModel"
   ]
  },
  {
   "cell_type": "markdown",
   "id": "880a9d1a",
   "metadata": {},
   "source": [
    "### Regularization"
   ]
  },
  {
   "cell_type": "markdown",
   "id": "82ba29e3",
   "metadata": {},
   "source": [
    "### To reduce the importance of the features which contributes less in the predictions, we are using L2 regularization.\n",
    "L2 regularization, also known as ridge regression, adds the \"squared magnitude\" of the coefficient to the loss function as a penalty term.\n"
   ]
  },
  {
   "cell_type": "code",
   "execution_count": 14,
   "id": "f6970cc9",
   "metadata": {},
   "outputs": [],
   "source": [
    "logistic = LogisticRegression(C=1, penalty=\"l2\", solver=\"liblinear\", random_state=2).fit(X,Y)\n",
    "model = SelectFromModel(logistic, prefit=True)"
   ]
  },
  {
   "cell_type": "code",
   "execution_count": 15,
   "id": "2647cba2",
   "metadata": {},
   "outputs": [],
   "source": [
    "X_new = model.transform(X)"
   ]
  },
  {
   "cell_type": "code",
   "execution_count": 16,
   "id": "b95eb894",
   "metadata": {},
   "outputs": [],
   "source": [
    "coef = logistic.coef_[0]\n",
    "imp_features = pd.Series(X.columns)[list(coef>0)]\n"
   ]
  },
  {
   "cell_type": "markdown",
   "id": "7bd43507",
   "metadata": {},
   "source": [
    "## Below we can see the Important features "
   ]
  },
  {
   "cell_type": "code",
   "execution_count": 17,
   "id": "7cf797d0",
   "metadata": {},
   "outputs": [
    {
     "data": {
      "text/plain": [
       "Index(['Offset', 'loc', 'var', 'WORD', 'large', 'short', 'dw', 'XREF', 'dword',\n",
       "       'locret',\n",
       "       ...\n",
       "       'Img86', 'Img88', 'Img92', 'Img93', 'Img94', 'Img96', 'Img101',\n",
       "       'Img103', 'Img105', 'Img106'],\n",
       "      dtype='object', length=786)"
      ]
     },
     "execution_count": 17,
     "metadata": {},
     "output_type": "execute_result"
    }
   ],
   "source": [
    "X = X[imp_features]\n",
    "X.columns"
   ]
  },
  {
   "cell_type": "code",
   "execution_count": 18,
   "id": "5cdbe984",
   "metadata": {},
   "outputs": [
    {
     "data": {
      "text/plain": [
       "(4999, 786)"
      ]
     },
     "execution_count": 18,
     "metadata": {},
     "output_type": "execute_result"
    }
   ],
   "source": [
    "X.shape"
   ]
  },
  {
   "cell_type": "code",
   "execution_count": 19,
   "id": "dff48870",
   "metadata": {},
   "outputs": [],
   "source": [
    "X_train, X_test, y_train, y_test = train_test_split(X, Y, test_size = 0.3)"
   ]
  },
  {
   "cell_type": "markdown",
   "id": "266236ff",
   "metadata": {},
   "source": [
    "## Scaling the Train and Test Data\n",
    "For this we will be usig the `StandardScaler` form sklearn"
   ]
  },
  {
   "cell_type": "code",
   "execution_count": 20,
   "id": "ff3aa72f",
   "metadata": {},
   "outputs": [],
   "source": [
    "from sklearn.preprocessing import StandardScaler\n",
    "sc = StandardScaler()\n",
    "X_train = sc.fit_transform(X_train)\n",
    "X_test = sc.transform(X_test)"
   ]
  },
  {
   "cell_type": "code",
   "execution_count": 21,
   "id": "7e652979",
   "metadata": {},
   "outputs": [],
   "source": [
    "# Fitting Logistic Regression to the Training set\n",
    "from sklearn.linear_model import LogisticRegression\n",
    "lr = LogisticRegression(random_state = 0, solver='lbfgs', multi_class='auto')\n",
    "lr.fit(X_train, y_train)\n",
    "# Predicting the Test set results\n",
    "y_pred = lr.predict(X_test)"
   ]
  },
  {
   "cell_type": "markdown",
   "id": "7e0f8b7c",
   "metadata": {},
   "source": [
    "## As we can see The as Logistic doesn't seems suitable to this data\n",
    "We will be using much advanced model for further training."
   ]
  },
  {
   "cell_type": "code",
   "execution_count": 22,
   "id": "ad9ec4d5",
   "metadata": {},
   "outputs": [
    {
     "name": "stdout",
     "output_type": "stream",
     "text": [
      "Accuracy:  50.2\n"
     ]
    }
   ],
   "source": [
    "print(\"Accuracy: \", lr.score(X_test, y_test) * 100)"
   ]
  },
  {
   "cell_type": "code",
   "execution_count": 23,
   "id": "72464b12",
   "metadata": {},
   "outputs": [
    {
     "data": {
      "image/png": "[encoded data removed]",
      "text/plain": [
       "<Figure size 432x288 with 2 Axes>"
      ]
     },
     "metadata": {
      "needs_background": "light"
     },
     "output_type": "display_data"
    }
   ],
   "source": [
    "from sklearn.metrics import confusion_matrix\n",
    "cm = confusion_matrix(y_test, y_pred)\n",
    "\n",
    "# Plot confusion matrix\n",
    "import seaborn as sns\n",
    "import pandas as pd\n",
    "# confusion matrix sns heatmap \n",
    "ax = plt.axes()\n",
    "df_cm = cm\n",
    "sns.heatmap(df_cm, annot=True, annot_kws={\"size\": 10}, fmt='d',cmap=\"Blues\", ax = ax )\n",
    "ax.set_title('Confusion Matrix')\n",
    "plt.show()"
   ]
  },
  {
   "cell_type": "markdown",
   "id": "6c843d82",
   "metadata": {},
   "source": [
    "## For Each Model We will be using multiple Metrics to judge the performance of the model\n",
    "A predictive model's performance is quantified by an evaluation metric. This usually entails training a model on a dataset, then using the model to generate predictions on a holdout dataset that was not used during training, and finally comparing the predictions to the predicted values in the holdout dataset."
   ]
  },
  {
   "cell_type": "markdown",
   "id": "0e4ec3df",
   "metadata": {},
   "source": [
    "# SVM"
   ]
  },
  {
   "cell_type": "code",
   "execution_count": 24,
   "id": "dbe070b3",
   "metadata": {},
   "outputs": [
    {
     "data": {
      "text/plain": [
       "SVC(probability=True, random_state=0)"
      ]
     },
     "execution_count": 24,
     "metadata": {},
     "output_type": "execute_result"
    }
   ],
   "source": [
    "from sklearn.svm import SVC\n",
    "svm = SVC(kernel = 'rbf', random_state = 0, probability=True)\n",
    "svm.fit(X_train, y_train)"
   ]
  },
  {
   "cell_type": "code",
   "execution_count": 25,
   "id": "fd504c53",
   "metadata": {},
   "outputs": [
    {
     "data": {
      "text/plain": [
       "array([8, 2, 2, ..., 1, 2, 3], dtype=int64)"
      ]
     },
     "execution_count": 25,
     "metadata": {},
     "output_type": "execute_result"
    }
   ],
   "source": [
    "y_pred = svm.predict(X_test) \n",
    "y_pred"
   ]
  },
  {
   "cell_type": "code",
   "execution_count": 26,
   "id": "6bc8ca7e",
   "metadata": {},
   "outputs": [
    {
     "name": "stdout",
     "output_type": "stream",
     "text": [
      "Accuracy :  0.598\n"
     ]
    },
    {
     "data": {
      "text/plain": [
       "array([[132,  21,  15,   0,   0,   0,   0,  36,   0],\n",
       "       [ 17, 256,  12,   0,   0,   0,   0,  24,   2],\n",
       "       [  3,  10, 387,   0,   0,   0,   0,   4,   1],\n",
       "       [ 24,  11,  17,   0,   0,   0,   0,  25,   2],\n",
       "       [  3,   3,   9,   0,   0,   1,   0,   3,   1],\n",
       "       [ 17,  21,  28,   0,   0,   3,   0,  38,   5],\n",
       "       [  4,   4,  22,   0,   0,   1,   0,  17,   5],\n",
       "       [ 48,  13,  17,   0,   0,   4,   0,  88,   1],\n",
       "       [ 16,  45,   7,   0,   0,   1,   0,  45,  31]], dtype=int64)"
      ]
     },
     "execution_count": 26,
     "metadata": {},
     "output_type": "execute_result"
    }
   ],
   "source": [
    "from sklearn.metrics import confusion_matrix\n",
    "cm = confusion_matrix(y_test, y_pred)\n",
    "from sklearn.metrics import accuracy_score \n",
    "print (\"Accuracy : \", accuracy_score(y_test, y_pred))\n",
    "cm"
   ]
  },
  {
   "cell_type": "markdown",
   "id": "339d7c5a",
   "metadata": {},
   "source": [
    "# Training KNN"
   ]
  },
  {
   "cell_type": "markdown",
   "id": "3f62c073",
   "metadata": {},
   "source": [
    "For the KNN we have used the K values as 2 and added the evaluation metrics to measure the performance of the model."
   ]
  },
  {
   "cell_type": "code",
   "execution_count": 27,
   "id": "c3bab885",
   "metadata": {},
   "outputs": [
    {
     "name": "stdout",
     "output_type": "stream",
     "text": [
      "KNeighborsClassifier(n_neighbors=2)\n",
      "Accuracy: 0.264\n",
      "0.16669797897338867\n",
      "[[  5  79  42   6   1  38   2  20  11]\n",
      " [  2 200  57   1   2  27   4  12   6]\n",
      " [  4 118 137  12   6  78   7  29  14]\n",
      " [  1  30  16   1   1  17   4   4   5]\n",
      " [  0   6   7   0   0   4   0   3   0]\n",
      " [  0  43  25   5   3  19   4  10   3]\n",
      " [  1  21  11   2   1  11   1   3   2]\n",
      " [  2  53  46   2   2  31   4  23   8]\n",
      " [  2  56  28   2   0  26   4  17  10]]\n",
      "TP:  5\n",
      "TN 200\n",
      "FP 2\n",
      "FN 79\n",
      "Accuracy    : 0.7167832167832168\n",
      "Precision   : 0.7142857142857143\n",
      "Recall      : 0.05952380952380952\n",
      "Specificity : 0.9900990099009901\n",
      "F1 Score    : 0.10989010989010989\n",
      "              precision    recall  f1-score   support\n",
      "\n",
      "           1       0.29      0.02      0.05       204\n",
      "           2       0.33      0.64      0.44       311\n",
      "           3       0.37      0.34      0.35       405\n",
      "           4       0.03      0.01      0.02        79\n",
      "           5       0.00      0.00      0.00        20\n",
      "           6       0.08      0.17      0.10       112\n",
      "           7       0.03      0.02      0.02        53\n",
      "           8       0.19      0.13      0.16       171\n",
      "           9       0.17      0.07      0.10       145\n",
      "\n",
      "    accuracy                           0.26      1500\n",
      "   macro avg       0.17      0.16      0.14      1500\n",
      "weighted avg       0.26      0.26      0.23      1500\n",
      "\n"
     ]
    }
   ],
   "source": [
    "from sklearn.neighbors import KNeighborsClassifier\n",
    "from sklearn.metrics import accuracy_score\n",
    "from sklearn.metrics import confusion_matrix, precision_recall_fscore_support,classification_report\n",
    "import time\n",
    "start = time.time()\n",
    "\n",
    "knn =  KNeighborsClassifier(n_neighbors=2).fit(X_train,y_train)\n",
    "print(knn)\n",
    "y_pred=knn.predict(X_test)\n",
    "\n",
    "end = time.time()\n",
    "\n",
    "print(\"Accuracy:\",accuracy_score(y_test, y_pred))\n",
    "\n",
    "print(end-start)\n",
    "\n",
    "cm = confusion_matrix(y_test,y_pred)\n",
    "print(cm)\n",
    "\n",
    "TP =cm[0][0]\n",
    "FN =cm[0][1]\n",
    "TN = cm[1][1]\n",
    "FP = cm[1][0]\n",
    "\n",
    "print(\"TP: \", TP)\n",
    "print(\"TN\", TN)\n",
    "print(\"FP\", FP)\n",
    "print(\"FN\", FN)\n",
    "\n",
    "Precision = (TP / (TP+FP))\n",
    "Recall = (TP / (TP+FN))\n",
    "\n",
    "print(\"Accuracy    :\", ((TP+TN) / (TP+FP+FN+TN)))\n",
    "print(\"Precision   :\", (TP / (TP+FP)))\n",
    "print(\"Recall      :\", (TP / (TP+FN)))\n",
    "print(\"Specificity :\", (TN / (TN+FP)) )\n",
    "print(\"F1 Score    :\",  ((2 * Precision * Recall) / (Precision + Recall)))\n",
    "\n",
    "print(classification_report(y_test, y_pred))"
   ]
  },
  {
   "cell_type": "markdown",
   "id": "1e90c736",
   "metadata": {},
   "source": [
    "## In the Grid Search for KNN we have fount the Best value for K is 15, <br>Because after that we can see an almost flat line for Error curve"
   ]
  },
  {
   "cell_type": "code",
   "execution_count": 28,
   "id": "dd279122",
   "metadata": {},
   "outputs": [
    {
     "data": {
      "text/plain": [
       "Text(0, 0.5, 'Mean Error')"
      ]
     },
     "execution_count": 28,
     "metadata": {},
     "output_type": "execute_result"
    },
    {
     "data": {
      "image/png": "[encoded data removed]",
      "text/plain": [
       "<Figure size 864x432 with 1 Axes>"
      ]
     },
     "metadata": {
      "needs_background": "light"
     },
     "output_type": "display_data"
    }
   ],
   "source": [
    "import numpy as np\n",
    "error = []\n",
    "for i in range(1, 40):  \n",
    "    knn = KNeighborsClassifier(n_neighbors=i)\n",
    "    knn.fit(X_train, y_train)\n",
    "    pred_i = knn.predict(X_test)\n",
    "    error.append(np.mean(pred_i != y_test))\n",
    "    \n",
    "plt.figure(figsize=(12, 6))  \n",
    "plt.plot(range(1, 40), error, color='red', linestyle='dashed', marker='o',  \n",
    "         markerfacecolor='blue', markersize=10)\n",
    "plt.title('Error Rate K Value')  \n",
    "plt.xlabel('K Value')  \n",
    "plt.ylabel('Mean Error')\n"
   ]
  },
  {
   "cell_type": "markdown",
   "id": "67eb2b66",
   "metadata": {},
   "source": [
    "# Decision Tree"
   ]
  },
  {
   "cell_type": "code",
   "execution_count": 29,
   "id": "e6187e42",
   "metadata": {},
   "outputs": [
    {
     "name": "stdout",
     "output_type": "stream",
     "text": [
      "DecisionTreeClassifier()\n",
      "Accuracy: 0.7633333333333333\n",
      "3.0829708576202393\n",
      "[[159  10   3   4   3   4   7  10   4]\n",
      " [  8 262   7   8   6   6   4   2   8]\n",
      " [ 10  11 344   2  13   4   6  11   4]\n",
      " [  9   3   4  46   1   1   3   4   8]\n",
      " [  2   4   4   0   5   2   0   2   1]\n",
      " [  6   7  10   5   1  63   3  10   7]\n",
      " [  1   3   7   4   1   0  31   3   3]\n",
      " [ 21  16   5   4   0   4   3 112   6]\n",
      " [  4   8   2   1   0   3   0   4 123]]\n",
      "TP:  159\n",
      "TN 262\n",
      "FP 8\n",
      "FN 10\n",
      "Accuracy    : 0.958997722095672\n",
      "Precision   : 0.9520958083832335\n",
      "Recall      : 0.9408284023668639\n",
      "Specificity : 0.9703703703703703\n",
      "F1 Score    : 0.9464285714285714\n",
      "              precision    recall  f1-score   support\n",
      "\n",
      "           1       0.72      0.78      0.75       204\n",
      "           2       0.81      0.84      0.83       311\n",
      "           3       0.89      0.85      0.87       405\n",
      "           4       0.62      0.58      0.60        79\n",
      "           5       0.17      0.25      0.20        20\n",
      "           6       0.72      0.56      0.63       112\n",
      "           7       0.54      0.58      0.56        53\n",
      "           8       0.71      0.65      0.68       171\n",
      "           9       0.75      0.85      0.80       145\n",
      "\n",
      "    accuracy                           0.76      1500\n",
      "   macro avg       0.66      0.66      0.66      1500\n",
      "weighted avg       0.77      0.76      0.76      1500\n",
      "\n"
     ]
    }
   ],
   "source": [
    "start = time.time()\n",
    "from sklearn import tree\n",
    "\n",
    "dt = tree.DecisionTreeClassifier().fit(X_train,y_train)\n",
    "print(dt)\n",
    "y_pred=dt.predict(X_test)\n",
    "end = time.time()\n",
    "\n",
    "print(\"Accuracy:\",accuracy_score(y_test, y_pred))\n",
    "print(end-start)\n",
    "\n",
    "\n",
    "\n",
    "cm = confusion_matrix(y_test,y_pred)\n",
    "print(cm)\n",
    "\n",
    "TP =cm[0][0]\n",
    "FN =cm[0][1]\n",
    "TN = cm[1][1]\n",
    "FP = cm[1][0]\n",
    "\n",
    "print(\"TP: \", TP)\n",
    "print(\"TN\", TN)\n",
    "print(\"FP\", FP)\n",
    "print(\"FN\", FN)\n",
    "\n",
    "Precision = (TP / (TP+FP))\n",
    "Recall = (TP / (TP+FN))\n",
    "\n",
    "print(\"Accuracy    :\", ((TP+TN) / (TP+FP+FN+TN)))\n",
    "print(\"Precision   :\", (TP / (TP+FP)))\n",
    "print(\"Recall      :\", (TP / (TP+FN)))\n",
    "print(\"Specificity :\", (TN / (TN+FP)) )\n",
    "print(\"F1 Score    :\",  ((2 * Precision * Recall) / (Precision + Recall)))\n",
    "\n",
    "print(classification_report(y_test, y_pred))"
   ]
  },
  {
   "cell_type": "markdown",
   "id": "a722bba4",
   "metadata": {},
   "source": [
    "## Random Forest"
   ]
  },
  {
   "cell_type": "code",
   "execution_count": 30,
   "id": "a8541438",
   "metadata": {},
   "outputs": [],
   "source": [
    "from sklearn.ensemble import RandomForestClassifier\n",
    "\n",
    "from sklearn.model_selection import GridSearchCV"
   ]
  },
  {
   "cell_type": "code",
   "execution_count": 31,
   "id": "89b84007",
   "metadata": {},
   "outputs": [
    {
     "name": "stdout",
     "output_type": "stream",
     "text": [
      "Fitting 5 folds for each of 64 candidates, totalling 320 fits\n",
      "[CV 1/5] END max_depth=3, max_features=4, n_estimators=3;, score=nan total time=   0.0s\n",
      "[CV 2/5] END max_depth=3, max_features=4, n_estimators=3;, score=nan total time=   0.0s\n",
      "[CV 3/5] END max_depth=3, max_features=4, n_estimators=3;, score=nan total time=   0.0s\n",
      "[CV 4/5] END max_depth=3, max_features=4, n_estimators=3;, score=nan total time=   0.0s\n",
      "[CV 5/5] END max_depth=3, max_features=4, n_estimators=3;, score=nan total time=   0.0s\n",
      "[CV 1/5] END max_depth=3, max_features=4, n_estimators=5;, score=nan total time=   0.0s\n",
      "[CV 2/5] END max_depth=3, max_features=4, n_estimators=5;, score=nan total time=   0.0s\n",
      "[CV 3/5] END max_depth=3, max_features=4, n_estimators=5;, score=nan total time=   0.0s\n",
      "[CV 4/5] END max_depth=3, max_features=4, n_estimators=5;, score=nan total time=   0.0s\n",
      "[CV 5/5] END max_depth=3, max_features=4, n_estimators=5;, score=nan total time=   0.0s\n",
      "[CV 1/5] END max_depth=3, max_features=4, n_estimators=10;, score=nan total time=   0.0s\n",
      "[CV 2/5] END max_depth=3, max_features=4, n_estimators=10;, score=nan total time=   0.0s\n",
      "[CV 3/5] END max_depth=3, max_features=4, n_estimators=10;, score=nan total time=   0.0s\n",
      "[CV 4/5] END max_depth=3, max_features=4, n_estimators=10;, score=nan total time=   0.0s\n",
      "[CV 5/5] END max_depth=3, max_features=4, n_estimators=10;, score=nan total time=   0.0s\n",
      "[CV 1/5] END max_depth=3, max_features=4, n_estimators=25;, score=nan total time=   0.0s\n",
      "[CV 2/5] END max_depth=3, max_features=4, n_estimators=25;, score=nan total time=   0.0s\n",
      "[CV 3/5] END max_depth=3, max_features=4, n_estimators=25;, score=nan total time=   0.0s\n",
      "[CV 4/5] END max_depth=3, max_features=4, n_estimators=25;, score=nan total time=   0.0s\n",
      "[CV 5/5] END max_depth=3, max_features=4, n_estimators=25;, score=nan total time=   0.0s\n",
      "[CV 1/5] END max_depth=3, max_features=7, n_estimators=3;, score=nan total time=   0.0s\n",
      "[CV 2/5] END max_depth=3, max_features=7, n_estimators=3;, score=nan total time=   0.0s\n",
      "[CV 3/5] END max_depth=3, max_features=7, n_estimators=3;, score=nan total time=   0.0s\n",
      "[CV 4/5] END max_depth=3, max_features=7, n_estimators=3;, score=nan total time=   0.0s\n",
      "[CV 5/5] END max_depth=3, max_features=7, n_estimators=3;, score=nan total time=   0.0s\n",
      "[CV 1/5] END max_depth=3, max_features=7, n_estimators=5;, score=nan total time=   0.0s\n",
      "[CV 2/5] END max_depth=3, max_features=7, n_estimators=5;, score=nan total time=   0.0s\n",
      "[CV 3/5] END max_depth=3, max_features=7, n_estimators=5;, score=nan total time=   0.0s\n",
      "[CV 4/5] END max_depth=3, max_features=7, n_estimators=5;, score=nan total time=   0.0s\n",
      "[CV 5/5] END max_depth=3, max_features=7, n_estimators=5;, score=nan total time=   0.0s\n",
      "[CV 1/5] END max_depth=3, max_features=7, n_estimators=10;, score=nan total time=   0.0s\n",
      "[CV 2/5] END max_depth=3, max_features=7, n_estimators=10;, score=nan total time=   0.0s\n",
      "[CV 3/5] END max_depth=3, max_features=7, n_estimators=10;, score=nan total time=   0.0s\n",
      "[CV 4/5] END max_depth=3, max_features=7, n_estimators=10;, score=nan total time=   0.0s\n",
      "[CV 5/5] END max_depth=3, max_features=7, n_estimators=10;, score=nan total time=   0.0s\n",
      "[CV 1/5] END max_depth=3, max_features=7, n_estimators=25;, score=nan total time=   0.0s\n",
      "[CV 2/5] END max_depth=3, max_features=7, n_estimators=25;, score=nan total time=   0.0s\n",
      "[CV 3/5] END max_depth=3, max_features=7, n_estimators=25;, score=nan total time=   0.0s\n",
      "[CV 4/5] END max_depth=3, max_features=7, n_estimators=25;, score=nan total time=   0.0s\n",
      "[CV 5/5] END max_depth=3, max_features=7, n_estimators=25;, score=nan total time=   0.0s\n",
      "[CV 1/5] END max_depth=3, max_features=15, n_estimators=3;, score=nan total time=   0.0s\n",
      "[CV 2/5] END max_depth=3, max_features=15, n_estimators=3;, score=nan total time=   0.0s\n",
      "[CV 3/5] END max_depth=3, max_features=15, n_estimators=3;, score=nan total time=   0.0s\n",
      "[CV 4/5] END max_depth=3, max_features=15, n_estimators=3;, score=nan total time=   0.0s\n",
      "[CV 5/5] END max_depth=3, max_features=15, n_estimators=3;, score=nan total time=   0.0s\n",
      "[CV 1/5] END max_depth=3, max_features=15, n_estimators=5;, score=nan total time=   0.0s\n",
      "[CV 2/5] END max_depth=3, max_features=15, n_estimators=5;, score=nan total time=   0.0s\n",
      "[CV 3/5] END max_depth=3, max_features=15, n_estimators=5;, score=nan total time=   0.0s\n",
      "[CV 4/5] END max_depth=3, max_features=15, n_estimators=5;, score=nan total time=   0.0s\n",
      "[CV 5/5] END max_depth=3, max_features=15, n_estimators=5;, score=nan total time=   0.0s\n",
      "[CV 1/5] END max_depth=3, max_features=15, n_estimators=10;, score=nan total time=   0.0s\n",
      "[CV 2/5] END max_depth=3, max_features=15, n_estimators=10;, score=nan total time=   0.0s\n",
      "[CV 3/5] END max_depth=3, max_features=15, n_estimators=10;, score=nan total time=   0.0s\n",
      "[CV 4/5] END max_depth=3, max_features=15, n_estimators=10;, score=nan total time=   0.0s\n",
      "[CV 5/5] END max_depth=3, max_features=15, n_estimators=10;, score=nan total time=   0.0s\n",
      "[CV 1/5] END max_depth=3, max_features=15, n_estimators=25;, score=nan total time=   0.1s\n",
      "[CV 2/5] END max_depth=3, max_features=15, n_estimators=25;, score=nan total time=   0.0s\n",
      "[CV 3/5] END max_depth=3, max_features=15, n_estimators=25;, score=nan total time=   0.0s\n",
      "[CV 4/5] END max_depth=3, max_features=15, n_estimators=25;, score=nan total time=   0.0s\n",
      "[CV 5/5] END max_depth=3, max_features=15, n_estimators=25;, score=nan total time=   0.0s\n",
      "[CV 1/5] END max_depth=3, max_features=20, n_estimators=3;, score=nan total time=   0.0s\n",
      "[CV 2/5] END max_depth=3, max_features=20, n_estimators=3;, score=nan total time=   0.0s\n",
      "[CV 3/5] END max_depth=3, max_features=20, n_estimators=3;, score=nan total time=   0.0s\n",
      "[CV 4/5] END max_depth=3, max_features=20, n_estimators=3;, score=nan total time=   0.0s\n",
      "[CV 5/5] END max_depth=3, max_features=20, n_estimators=3;, score=nan total time=   0.0s\n",
      "[CV 1/5] END max_depth=3, max_features=20, n_estimators=5;, score=nan total time=   0.0s\n",
      "[CV 2/5] END max_depth=3, max_features=20, n_estimators=5;, score=nan total time=   0.0s\n",
      "[CV 3/5] END max_depth=3, max_features=20, n_estimators=5;, score=nan total time=   0.0s\n",
      "[CV 4/5] END max_depth=3, max_features=20, n_estimators=5;, score=nan total time=   0.0s\n",
      "[CV 5/5] END max_depth=3, max_features=20, n_estimators=5;, score=nan total time=   0.0s\n",
      "[CV 1/5] END max_depth=3, max_features=20, n_estimators=10;, score=nan total time=   0.0s\n",
      "[CV 2/5] END max_depth=3, max_features=20, n_estimators=10;, score=nan total time=   0.0s\n",
      "[CV 3/5] END max_depth=3, max_features=20, n_estimators=10;, score=nan total time=   0.0s\n",
      "[CV 4/5] END max_depth=3, max_features=20, n_estimators=10;, score=nan total time=   0.0s\n",
      "[CV 5/5] END max_depth=3, max_features=20, n_estimators=10;, score=nan total time=   0.0s\n",
      "[CV 1/5] END max_depth=3, max_features=20, n_estimators=25;, score=nan total time=   0.1s\n",
      "[CV 2/5] END max_depth=3, max_features=20, n_estimators=25;, score=nan total time=   0.0s\n",
      "[CV 3/5] END max_depth=3, max_features=20, n_estimators=25;, score=nan total time=   0.0s\n",
      "[CV 4/5] END max_depth=3, max_features=20, n_estimators=25;, score=nan total time=   0.0s\n",
      "[CV 5/5] END max_depth=3, max_features=20, n_estimators=25;, score=nan total time=   0.1s\n",
      "[CV 1/5] END max_depth=5, max_features=4, n_estimators=3;, score=nan total time=   0.0s\n",
      "[CV 2/5] END max_depth=5, max_features=4, n_estimators=3;, score=nan total time=   0.0s\n",
      "[CV 3/5] END max_depth=5, max_features=4, n_estimators=3;, score=nan total time=   0.0s\n",
      "[CV 4/5] END max_depth=5, max_features=4, n_estimators=3;, score=nan total time=   0.0s\n",
      "[CV 5/5] END max_depth=5, max_features=4, n_estimators=3;, score=nan total time=   0.0s\n",
      "[CV 1/5] END max_depth=5, max_features=4, n_estimators=5;, score=nan total time=   0.0s\n",
      "[CV 2/5] END max_depth=5, max_features=4, n_estimators=5;, score=nan total time=   0.0s\n",
      "[CV 3/5] END max_depth=5, max_features=4, n_estimators=5;, score=nan total time=   0.0s\n",
      "[CV 4/5] END max_depth=5, max_features=4, n_estimators=5;, score=nan total time=   0.0s\n",
      "[CV 5/5] END max_depth=5, max_features=4, n_estimators=5;, score=nan total time=   0.0s\n",
      "[CV 1/5] END max_depth=5, max_features=4, n_estimators=10;, score=nan total time=   0.0s\n",
      "[CV 2/5] END max_depth=5, max_features=4, n_estimators=10;, score=nan total time=   0.0s\n",
      "[CV 3/5] END max_depth=5, max_features=4, n_estimators=10;, score=nan total time=   0.0s\n",
      "[CV 4/5] END max_depth=5, max_features=4, n_estimators=10;, score=nan total time=   0.0s\n"
     ]
    },
    {
     "name": "stdout",
     "output_type": "stream",
     "text": [
      "[CV 5/5] END max_depth=5, max_features=4, n_estimators=10;, score=nan total time=   0.0s\n",
      "[CV 1/5] END max_depth=5, max_features=4, n_estimators=25;, score=nan total time=   0.0s\n",
      "[CV 2/5] END max_depth=5, max_features=4, n_estimators=25;, score=nan total time=   0.0s\n",
      "[CV 3/5] END max_depth=5, max_features=4, n_estimators=25;, score=nan total time=   0.0s\n",
      "[CV 4/5] END max_depth=5, max_features=4, n_estimators=25;, score=nan total time=   0.0s\n",
      "[CV 5/5] END max_depth=5, max_features=4, n_estimators=25;, score=nan total time=   0.0s\n",
      "[CV 1/5] END max_depth=5, max_features=7, n_estimators=3;, score=nan total time=   0.0s\n",
      "[CV 2/5] END max_depth=5, max_features=7, n_estimators=3;, score=nan total time=   0.0s\n",
      "[CV 3/5] END max_depth=5, max_features=7, n_estimators=3;, score=nan total time=   0.0s\n",
      "[CV 4/5] END max_depth=5, max_features=7, n_estimators=3;, score=nan total time=   0.0s\n",
      "[CV 5/5] END max_depth=5, max_features=7, n_estimators=3;, score=nan total time=   0.0s\n",
      "[CV 1/5] END max_depth=5, max_features=7, n_estimators=5;, score=nan total time=   0.0s\n",
      "[CV 2/5] END max_depth=5, max_features=7, n_estimators=5;, score=nan total time=   0.0s\n",
      "[CV 3/5] END max_depth=5, max_features=7, n_estimators=5;, score=nan total time=   0.0s\n",
      "[CV 4/5] END max_depth=5, max_features=7, n_estimators=5;, score=nan total time=   0.0s\n",
      "[CV 5/5] END max_depth=5, max_features=7, n_estimators=5;, score=nan total time=   0.0s\n",
      "[CV 1/5] END max_depth=5, max_features=7, n_estimators=10;, score=nan total time=   0.0s\n",
      "[CV 2/5] END max_depth=5, max_features=7, n_estimators=10;, score=nan total time=   0.0s\n",
      "[CV 3/5] END max_depth=5, max_features=7, n_estimators=10;, score=nan total time=   0.0s\n",
      "[CV 4/5] END max_depth=5, max_features=7, n_estimators=10;, score=nan total time=   0.0s\n",
      "[CV 5/5] END max_depth=5, max_features=7, n_estimators=10;, score=nan total time=   0.0s\n",
      "[CV 1/5] END max_depth=5, max_features=7, n_estimators=25;, score=nan total time=   0.0s\n",
      "[CV 2/5] END max_depth=5, max_features=7, n_estimators=25;, score=nan total time=   0.0s\n",
      "[CV 3/5] END max_depth=5, max_features=7, n_estimators=25;, score=nan total time=   0.0s\n",
      "[CV 4/5] END max_depth=5, max_features=7, n_estimators=25;, score=nan total time=   0.0s\n",
      "[CV 5/5] END max_depth=5, max_features=7, n_estimators=25;, score=nan total time=   0.0s\n",
      "[CV 1/5] END max_depth=5, max_features=15, n_estimators=3;, score=nan total time=   0.0s\n",
      "[CV 2/5] END max_depth=5, max_features=15, n_estimators=3;, score=nan total time=   0.0s\n",
      "[CV 3/5] END max_depth=5, max_features=15, n_estimators=3;, score=nan total time=   0.0s\n",
      "[CV 4/5] END max_depth=5, max_features=15, n_estimators=3;, score=nan total time=   0.0s\n",
      "[CV 5/5] END max_depth=5, max_features=15, n_estimators=3;, score=nan total time=   0.0s\n",
      "[CV 1/5] END max_depth=5, max_features=15, n_estimators=5;, score=nan total time=   0.0s\n",
      "[CV 2/5] END max_depth=5, max_features=15, n_estimators=5;, score=nan total time=   0.0s\n",
      "[CV 3/5] END max_depth=5, max_features=15, n_estimators=5;, score=nan total time=   0.0s\n",
      "[CV 4/5] END max_depth=5, max_features=15, n_estimators=5;, score=nan total time=   0.0s\n",
      "[CV 5/5] END max_depth=5, max_features=15, n_estimators=5;, score=nan total time=   0.0s\n",
      "[CV 1/5] END max_depth=5, max_features=15, n_estimators=10;, score=nan total time=   0.0s\n",
      "[CV 2/5] END max_depth=5, max_features=15, n_estimators=10;, score=nan total time=   0.0s\n",
      "[CV 3/5] END max_depth=5, max_features=15, n_estimators=10;, score=nan total time=   0.0s\n",
      "[CV 4/5] END max_depth=5, max_features=15, n_estimators=10;, score=nan total time=   0.0s\n",
      "[CV 5/5] END max_depth=5, max_features=15, n_estimators=10;, score=nan total time=   0.0s\n",
      "[CV 1/5] END max_depth=5, max_features=15, n_estimators=25;, score=nan total time=   0.1s\n",
      "[CV 2/5] END max_depth=5, max_features=15, n_estimators=25;, score=nan total time=   0.0s\n",
      "[CV 3/5] END max_depth=5, max_features=15, n_estimators=25;, score=nan total time=   0.1s\n",
      "[CV 4/5] END max_depth=5, max_features=15, n_estimators=25;, score=nan total time=   0.1s\n",
      "[CV 5/5] END max_depth=5, max_features=15, n_estimators=25;, score=nan total time=   0.1s\n",
      "[CV 1/5] END max_depth=5, max_features=20, n_estimators=3;, score=nan total time=   0.0s\n",
      "[CV 2/5] END max_depth=5, max_features=20, n_estimators=3;, score=nan total time=   0.0s\n",
      "[CV 3/5] END max_depth=5, max_features=20, n_estimators=3;, score=nan total time=   0.0s\n",
      "[CV 4/5] END max_depth=5, max_features=20, n_estimators=3;, score=nan total time=   0.0s\n",
      "[CV 5/5] END max_depth=5, max_features=20, n_estimators=3;, score=nan total time=   0.0s\n",
      "[CV 1/5] END max_depth=5, max_features=20, n_estimators=5;, score=nan total time=   0.0s\n",
      "[CV 2/5] END max_depth=5, max_features=20, n_estimators=5;, score=nan total time=   0.0s\n",
      "[CV 3/5] END max_depth=5, max_features=20, n_estimators=5;, score=nan total time=   0.0s\n",
      "[CV 4/5] END max_depth=5, max_features=20, n_estimators=5;, score=nan total time=   0.0s\n",
      "[CV 5/5] END max_depth=5, max_features=20, n_estimators=5;, score=nan total time=   0.0s\n",
      "[CV 1/5] END max_depth=5, max_features=20, n_estimators=10;, score=nan total time=   0.0s\n",
      "[CV 2/5] END max_depth=5, max_features=20, n_estimators=10;, score=nan total time=   0.0s\n",
      "[CV 3/5] END max_depth=5, max_features=20, n_estimators=10;, score=nan total time=   0.0s\n",
      "[CV 4/5] END max_depth=5, max_features=20, n_estimators=10;, score=nan total time=   0.0s\n",
      "[CV 5/5] END max_depth=5, max_features=20, n_estimators=10;, score=nan total time=   0.0s\n",
      "[CV 1/5] END max_depth=5, max_features=20, n_estimators=25;, score=nan total time=   0.1s\n",
      "[CV 2/5] END max_depth=5, max_features=20, n_estimators=25;, score=nan total time=   0.1s\n",
      "[CV 3/5] END max_depth=5, max_features=20, n_estimators=25;, score=nan total time=   0.1s\n",
      "[CV 4/5] END max_depth=5, max_features=20, n_estimators=25;, score=nan total time=   0.1s\n",
      "[CV 5/5] END max_depth=5, max_features=20, n_estimators=25;, score=nan total time=   0.1s\n",
      "[CV 1/5] END max_depth=7, max_features=4, n_estimators=3;, score=nan total time=   0.0s\n",
      "[CV 2/5] END max_depth=7, max_features=4, n_estimators=3;, score=nan total time=   0.0s\n",
      "[CV 3/5] END max_depth=7, max_features=4, n_estimators=3;, score=nan total time=   0.0s\n",
      "[CV 4/5] END max_depth=7, max_features=4, n_estimators=3;, score=nan total time=   0.0s\n",
      "[CV 5/5] END max_depth=7, max_features=4, n_estimators=3;, score=nan total time=   0.0s\n",
      "[CV 1/5] END max_depth=7, max_features=4, n_estimators=5;, score=nan total time=   0.0s\n",
      "[CV 2/5] END max_depth=7, max_features=4, n_estimators=5;, score=nan total time=   0.0s\n",
      "[CV 3/5] END max_depth=7, max_features=4, n_estimators=5;, score=nan total time=   0.0s\n",
      "[CV 4/5] END max_depth=7, max_features=4, n_estimators=5;, score=nan total time=   0.0s\n",
      "[CV 5/5] END max_depth=7, max_features=4, n_estimators=5;, score=nan total time=   0.0s\n",
      "[CV 1/5] END max_depth=7, max_features=4, n_estimators=10;, score=nan total time=   0.0s\n",
      "[CV 2/5] END max_depth=7, max_features=4, n_estimators=10;, score=nan total time=   0.0s\n",
      "[CV 3/5] END max_depth=7, max_features=4, n_estimators=10;, score=nan total time=   0.0s\n",
      "[CV 4/5] END max_depth=7, max_features=4, n_estimators=10;, score=nan total time=   0.0s\n",
      "[CV 5/5] END max_depth=7, max_features=4, n_estimators=10;, score=nan total time=   0.0s\n",
      "[CV 1/5] END max_depth=7, max_features=4, n_estimators=25;, score=nan total time=   0.0s\n",
      "[CV 2/5] END max_depth=7, max_features=4, n_estimators=25;, score=nan total time=   0.0s\n",
      "[CV 3/5] END max_depth=7, max_features=4, n_estimators=25;, score=nan total time=   0.0s\n",
      "[CV 4/5] END max_depth=7, max_features=4, n_estimators=25;, score=nan total time=   0.0s\n",
      "[CV 5/5] END max_depth=7, max_features=4, n_estimators=25;, score=nan total time=   0.0s\n",
      "[CV 1/5] END max_depth=7, max_features=7, n_estimators=3;, score=nan total time=   0.0s\n",
      "[CV 2/5] END max_depth=7, max_features=7, n_estimators=3;, score=nan total time=   0.0s\n",
      "[CV 3/5] END max_depth=7, max_features=7, n_estimators=3;, score=nan total time=   0.0s\n",
      "[CV 4/5] END max_depth=7, max_features=7, n_estimators=3;, score=nan total time=   0.0s\n",
      "[CV 5/5] END max_depth=7, max_features=7, n_estimators=3;, score=nan total time=   0.0s\n",
      "[CV 1/5] END max_depth=7, max_features=7, n_estimators=5;, score=nan total time=   0.0s\n",
      "[CV 2/5] END max_depth=7, max_features=7, n_estimators=5;, score=nan total time=   0.0s\n",
      "[CV 3/5] END max_depth=7, max_features=7, n_estimators=5;, score=nan total time=   0.0s\n"
     ]
    },
    {
     "name": "stdout",
     "output_type": "stream",
     "text": [
      "[CV 4/5] END max_depth=7, max_features=7, n_estimators=5;, score=nan total time=   0.0s\n",
      "[CV 5/5] END max_depth=7, max_features=7, n_estimators=5;, score=nan total time=   0.0s\n",
      "[CV 1/5] END max_depth=7, max_features=7, n_estimators=10;, score=nan total time=   0.0s\n",
      "[CV 2/5] END max_depth=7, max_features=7, n_estimators=10;, score=nan total time=   0.0s\n",
      "[CV 3/5] END max_depth=7, max_features=7, n_estimators=10;, score=nan total time=   0.0s\n",
      "[CV 4/5] END max_depth=7, max_features=7, n_estimators=10;, score=nan total time=   0.0s\n",
      "[CV 5/5] END max_depth=7, max_features=7, n_estimators=10;, score=nan total time=   0.0s\n",
      "[CV 1/5] END max_depth=7, max_features=7, n_estimators=25;, score=nan total time=   0.0s\n",
      "[CV 2/5] END max_depth=7, max_features=7, n_estimators=25;, score=nan total time=   0.0s\n",
      "[CV 3/5] END max_depth=7, max_features=7, n_estimators=25;, score=nan total time=   0.0s\n",
      "[CV 4/5] END max_depth=7, max_features=7, n_estimators=25;, score=nan total time=   0.0s\n",
      "[CV 5/5] END max_depth=7, max_features=7, n_estimators=25;, score=nan total time=   0.0s\n",
      "[CV 1/5] END max_depth=7, max_features=15, n_estimators=3;, score=nan total time=   0.0s\n",
      "[CV 2/5] END max_depth=7, max_features=15, n_estimators=3;, score=nan total time=   0.0s\n",
      "[CV 3/5] END max_depth=7, max_features=15, n_estimators=3;, score=nan total time=   0.0s\n",
      "[CV 4/5] END max_depth=7, max_features=15, n_estimators=3;, score=nan total time=   0.0s\n",
      "[CV 5/5] END max_depth=7, max_features=15, n_estimators=3;, score=nan total time=   0.0s\n",
      "[CV 1/5] END max_depth=7, max_features=15, n_estimators=5;, score=nan total time=   0.0s\n",
      "[CV 2/5] END max_depth=7, max_features=15, n_estimators=5;, score=nan total time=   0.0s\n",
      "[CV 3/5] END max_depth=7, max_features=15, n_estimators=5;, score=nan total time=   0.0s\n",
      "[CV 4/5] END max_depth=7, max_features=15, n_estimators=5;, score=nan total time=   0.0s\n",
      "[CV 5/5] END max_depth=7, max_features=15, n_estimators=5;, score=nan total time=   0.0s\n",
      "[CV 1/5] END max_depth=7, max_features=15, n_estimators=10;, score=nan total time=   0.0s\n",
      "[CV 2/5] END max_depth=7, max_features=15, n_estimators=10;, score=nan total time=   0.0s\n",
      "[CV 3/5] END max_depth=7, max_features=15, n_estimators=10;, score=nan total time=   0.0s\n",
      "[CV 4/5] END max_depth=7, max_features=15, n_estimators=10;, score=nan total time=   0.0s\n",
      "[CV 5/5] END max_depth=7, max_features=15, n_estimators=10;, score=nan total time=   0.0s\n",
      "[CV 1/5] END max_depth=7, max_features=15, n_estimators=25;, score=nan total time=   0.1s\n",
      "[CV 2/5] END max_depth=7, max_features=15, n_estimators=25;, score=nan total time=   0.1s\n",
      "[CV 3/5] END max_depth=7, max_features=15, n_estimators=25;, score=nan total time=   0.1s\n",
      "[CV 4/5] END max_depth=7, max_features=15, n_estimators=25;, score=nan total time=   0.1s\n",
      "[CV 5/5] END max_depth=7, max_features=15, n_estimators=25;, score=nan total time=   0.1s\n",
      "[CV 1/5] END max_depth=7, max_features=20, n_estimators=3;, score=nan total time=   0.0s\n",
      "[CV 2/5] END max_depth=7, max_features=20, n_estimators=3;, score=nan total time=   0.0s\n",
      "[CV 3/5] END max_depth=7, max_features=20, n_estimators=3;, score=nan total time=   0.0s\n",
      "[CV 4/5] END max_depth=7, max_features=20, n_estimators=3;, score=nan total time=   0.0s\n",
      "[CV 5/5] END max_depth=7, max_features=20, n_estimators=3;, score=nan total time=   0.0s\n",
      "[CV 1/5] END max_depth=7, max_features=20, n_estimators=5;, score=nan total time=   0.0s\n",
      "[CV 2/5] END max_depth=7, max_features=20, n_estimators=5;, score=nan total time=   0.0s\n",
      "[CV 3/5] END max_depth=7, max_features=20, n_estimators=5;, score=nan total time=   0.0s\n",
      "[CV 4/5] END max_depth=7, max_features=20, n_estimators=5;, score=nan total time=   0.0s\n",
      "[CV 5/5] END max_depth=7, max_features=20, n_estimators=5;, score=nan total time=   0.0s\n",
      "[CV 1/5] END max_depth=7, max_features=20, n_estimators=10;, score=nan total time=   0.0s\n",
      "[CV 2/5] END max_depth=7, max_features=20, n_estimators=10;, score=nan total time=   0.0s\n",
      "[CV 3/5] END max_depth=7, max_features=20, n_estimators=10;, score=nan total time=   0.0s\n",
      "[CV 4/5] END max_depth=7, max_features=20, n_estimators=10;, score=nan total time=   0.0s\n",
      "[CV 5/5] END max_depth=7, max_features=20, n_estimators=10;, score=nan total time=   0.0s\n",
      "[CV 1/5] END max_depth=7, max_features=20, n_estimators=25;, score=nan total time=   0.1s\n",
      "[CV 2/5] END max_depth=7, max_features=20, n_estimators=25;, score=nan total time=   0.2s\n",
      "[CV 3/5] END max_depth=7, max_features=20, n_estimators=25;, score=nan total time=   0.2s\n",
      "[CV 4/5] END max_depth=7, max_features=20, n_estimators=25;, score=nan total time=   0.2s\n",
      "[CV 5/5] END max_depth=7, max_features=20, n_estimators=25;, score=nan total time=   0.2s\n",
      "[CV 1/5] END max_depth=10, max_features=4, n_estimators=3;, score=nan total time=   0.0s\n",
      "[CV 2/5] END max_depth=10, max_features=4, n_estimators=3;, score=nan total time=   0.0s\n",
      "[CV 3/5] END max_depth=10, max_features=4, n_estimators=3;, score=nan total time=   0.0s\n",
      "[CV 4/5] END max_depth=10, max_features=4, n_estimators=3;, score=nan total time=   0.0s\n",
      "[CV 5/5] END max_depth=10, max_features=4, n_estimators=3;, score=nan total time=   0.0s\n",
      "[CV 1/5] END max_depth=10, max_features=4, n_estimators=5;, score=nan total time=   0.0s\n",
      "[CV 2/5] END max_depth=10, max_features=4, n_estimators=5;, score=nan total time=   0.0s\n",
      "[CV 3/5] END max_depth=10, max_features=4, n_estimators=5;, score=nan total time=   0.0s\n",
      "[CV 4/5] END max_depth=10, max_features=4, n_estimators=5;, score=nan total time=   0.0s\n",
      "[CV 5/5] END max_depth=10, max_features=4, n_estimators=5;, score=nan total time=   0.0s\n",
      "[CV 1/5] END max_depth=10, max_features=4, n_estimators=10;, score=nan total time=   0.0s\n",
      "[CV 2/5] END max_depth=10, max_features=4, n_estimators=10;, score=nan total time=   0.0s\n",
      "[CV 3/5] END max_depth=10, max_features=4, n_estimators=10;, score=nan total time=   0.0s\n",
      "[CV 4/5] END max_depth=10, max_features=4, n_estimators=10;, score=nan total time=   0.0s\n",
      "[CV 5/5] END max_depth=10, max_features=4, n_estimators=10;, score=nan total time=   0.0s\n",
      "[CV 1/5] END max_depth=10, max_features=4, n_estimators=25;, score=nan total time=   0.0s\n",
      "[CV 2/5] END max_depth=10, max_features=4, n_estimators=25;, score=nan total time=   0.0s\n",
      "[CV 3/5] END max_depth=10, max_features=4, n_estimators=25;, score=nan total time=   0.0s\n",
      "[CV 4/5] END max_depth=10, max_features=4, n_estimators=25;, score=nan total time=   0.0s\n",
      "[CV 5/5] END max_depth=10, max_features=4, n_estimators=25;, score=nan total time=   0.0s\n",
      "[CV 1/5] END max_depth=10, max_features=7, n_estimators=3;, score=nan total time=   0.0s\n",
      "[CV 2/5] END max_depth=10, max_features=7, n_estimators=3;, score=nan total time=   0.0s\n",
      "[CV 3/5] END max_depth=10, max_features=7, n_estimators=3;, score=nan total time=   0.0s\n",
      "[CV 4/5] END max_depth=10, max_features=7, n_estimators=3;, score=nan total time=   0.0s\n",
      "[CV 5/5] END max_depth=10, max_features=7, n_estimators=3;, score=nan total time=   0.0s\n",
      "[CV 1/5] END max_depth=10, max_features=7, n_estimators=5;, score=nan total time=   0.0s\n",
      "[CV 2/5] END max_depth=10, max_features=7, n_estimators=5;, score=nan total time=   0.0s\n",
      "[CV 3/5] END max_depth=10, max_features=7, n_estimators=5;, score=nan total time=   0.0s\n",
      "[CV 4/5] END max_depth=10, max_features=7, n_estimators=5;, score=nan total time=   0.0s\n",
      "[CV 5/5] END max_depth=10, max_features=7, n_estimators=5;, score=nan total time=   0.0s\n",
      "[CV 1/5] END max_depth=10, max_features=7, n_estimators=10;, score=nan total time=   0.0s\n",
      "[CV 2/5] END max_depth=10, max_features=7, n_estimators=10;, score=nan total time=   0.0s\n",
      "[CV 3/5] END max_depth=10, max_features=7, n_estimators=10;, score=nan total time=   0.0s\n",
      "[CV 4/5] END max_depth=10, max_features=7, n_estimators=10;, score=nan total time=   0.0s\n",
      "[CV 5/5] END max_depth=10, max_features=7, n_estimators=10;, score=nan total time=   0.0s\n",
      "[CV 1/5] END max_depth=10, max_features=7, n_estimators=25;, score=nan total time=   0.1s\n",
      "[CV 2/5] END max_depth=10, max_features=7, n_estimators=25;, score=nan total time=   0.0s\n",
      "[CV 3/5] END max_depth=10, max_features=7, n_estimators=25;, score=nan total time=   0.0s\n",
      "[CV 4/5] END max_depth=10, max_features=7, n_estimators=25;, score=nan total time=   0.1s\n",
      "[CV 5/5] END max_depth=10, max_features=7, n_estimators=25;, score=nan total time=   0.0s\n",
      "[CV 1/5] END max_depth=10, max_features=15, n_estimators=3;, score=nan total time=   0.0s\n",
      "[CV 2/5] END max_depth=10, max_features=15, n_estimators=3;, score=nan total time=   0.0s\n",
      "[CV 3/5] END max_depth=10, max_features=15, n_estimators=3;, score=nan total time=   0.0s\n",
      "[CV 4/5] END max_depth=10, max_features=15, n_estimators=3;, score=nan total time=   0.0s\n"
     ]
    },
    {
     "name": "stdout",
     "output_type": "stream",
     "text": [
      "[CV 5/5] END max_depth=10, max_features=15, n_estimators=3;, score=nan total time=   0.0s\n",
      "[CV 1/5] END max_depth=10, max_features=15, n_estimators=5;, score=nan total time=   0.0s\n",
      "[CV 2/5] END max_depth=10, max_features=15, n_estimators=5;, score=nan total time=   0.0s\n",
      "[CV 3/5] END max_depth=10, max_features=15, n_estimators=5;, score=nan total time=   0.0s\n",
      "[CV 4/5] END max_depth=10, max_features=15, n_estimators=5;, score=nan total time=   0.0s\n",
      "[CV 5/5] END max_depth=10, max_features=15, n_estimators=5;, score=nan total time=   0.0s\n",
      "[CV 1/5] END max_depth=10, max_features=15, n_estimators=10;, score=nan total time=   0.0s\n",
      "[CV 2/5] END max_depth=10, max_features=15, n_estimators=10;, score=nan total time=   0.0s\n",
      "[CV 3/5] END max_depth=10, max_features=15, n_estimators=10;, score=nan total time=   0.0s\n",
      "[CV 4/5] END max_depth=10, max_features=15, n_estimators=10;, score=nan total time=   0.0s\n",
      "[CV 5/5] END max_depth=10, max_features=15, n_estimators=10;, score=nan total time=   0.0s\n",
      "[CV 1/5] END max_depth=10, max_features=15, n_estimators=25;, score=nan total time=   0.2s\n",
      "[CV 2/5] END max_depth=10, max_features=15, n_estimators=25;, score=nan total time=   0.2s\n",
      "[CV 3/5] END max_depth=10, max_features=15, n_estimators=25;, score=nan total time=   0.2s\n",
      "[CV 4/5] END max_depth=10, max_features=15, n_estimators=25;, score=nan total time=   0.2s\n",
      "[CV 5/5] END max_depth=10, max_features=15, n_estimators=25;, score=nan total time=   0.2s\n",
      "[CV 1/5] END max_depth=10, max_features=20, n_estimators=3;, score=nan total time=   0.0s\n",
      "[CV 2/5] END max_depth=10, max_features=20, n_estimators=3;, score=nan total time=   0.0s\n",
      "[CV 3/5] END max_depth=10, max_features=20, n_estimators=3;, score=nan total time=   0.0s\n",
      "[CV 4/5] END max_depth=10, max_features=20, n_estimators=3;, score=nan total time=   0.0s\n",
      "[CV 5/5] END max_depth=10, max_features=20, n_estimators=3;, score=nan total time=   0.0s\n",
      "[CV 1/5] END max_depth=10, max_features=20, n_estimators=5;, score=nan total time=   0.0s\n",
      "[CV 2/5] END max_depth=10, max_features=20, n_estimators=5;, score=nan total time=   0.0s\n",
      "[CV 3/5] END max_depth=10, max_features=20, n_estimators=5;, score=nan total time=   0.0s\n",
      "[CV 4/5] END max_depth=10, max_features=20, n_estimators=5;, score=nan total time=   0.0s\n",
      "[CV 5/5] END max_depth=10, max_features=20, n_estimators=5;, score=nan total time=   0.0s\n",
      "[CV 1/5] END max_depth=10, max_features=20, n_estimators=10;, score=nan total time=   0.0s\n",
      "[CV 2/5] END max_depth=10, max_features=20, n_estimators=10;, score=nan total time=   0.0s\n",
      "[CV 3/5] END max_depth=10, max_features=20, n_estimators=10;, score=nan total time=   0.0s\n",
      "[CV 4/5] END max_depth=10, max_features=20, n_estimators=10;, score=nan total time=   0.1s\n",
      "[CV 5/5] END max_depth=10, max_features=20, n_estimators=10;, score=nan total time=   0.1s\n",
      "[CV 1/5] END max_depth=10, max_features=20, n_estimators=25;, score=nan total time=   0.2s\n",
      "[CV 2/5] END max_depth=10, max_features=20, n_estimators=25;, score=nan total time=   0.3s\n",
      "[CV 3/5] END max_depth=10, max_features=20, n_estimators=25;, score=nan total time=   0.2s\n",
      "[CV 4/5] END max_depth=10, max_features=20, n_estimators=25;, score=nan total time=   0.2s\n",
      "[CV 5/5] END max_depth=10, max_features=20, n_estimators=25;, score=nan total time=   0.2s\n"
     ]
    },
    {
     "data": {
      "text/plain": [
       "GridSearchCV(cv=5, estimator=RandomForestClassifier(random_state=2),\n",
       "             param_grid={'max_depth': [3, 5, 7, 10],\n",
       "                         'max_features': [4, 7, 15, 20],\n",
       "                         'n_estimators': [3, 5, 10, 25]},\n",
       "             scoring='recall', verbose=4)"
      ]
     },
     "execution_count": 31,
     "metadata": {},
     "output_type": "execute_result"
    }
   ],
   "source": [
    "param_grid = {\"max_depth\": [3,5, 7, 10],\n",
    "              \"n_estimators\":[3,5,10,25],\n",
    "              \"max_features\": [4,7,15,20]}\n",
    "\n",
    "#Creating the classifier\n",
    "model = RandomForestClassifier(random_state=2)\n",
    "\n",
    "grid_search = GridSearchCV(model, param_grid=param_grid, cv=5, scoring='recall', verbose=4)\n",
    "grid_search.fit(X_train, y_train)"
   ]
  },
  {
   "cell_type": "code",
   "execution_count": 32,
   "id": "7b93a2f9",
   "metadata": {},
   "outputs": [
    {
     "data": {
      "text/plain": [
       "RandomForestClassifier(max_depth=3, max_features=4, n_estimators=3,\n",
       "                       random_state=2)"
      ]
     },
     "execution_count": 32,
     "metadata": {},
     "output_type": "execute_result"
    }
   ],
   "source": [
    "#use the best params above to create a random forest classifier\n",
    "rf = RandomForestClassifier(max_depth=grid_search.best_params_.get('max_depth'), max_features=grid_search.best_params_.get('max_features'), \n",
    "                            n_estimators=grid_search.best_params_.get('n_estimators'), random_state=2)\n",
    "\n",
    "#training with the best params\n",
    "rf.fit(X_train, y_train)"
   ]
  },
  {
   "cell_type": "code",
   "execution_count": 33,
   "id": "2339a0cd",
   "metadata": {},
   "outputs": [
    {
     "name": "stdout",
     "output_type": "stream",
     "text": [
      "\n",
      "\n",
      "Predicted   1    2    3    6  7    8   9   All\n",
      "True                                          \n",
      "1          48  102    5    3  0   43   3   204\n",
      "2           1  298    4    4  0    1   3   311\n",
      "3           1    8  391    0  0    4   1   405\n",
      "4           3   12   12   40  0   10   2    79\n",
      "5           0    8    6    5  0    0   1    20\n",
      "6           3   37   11   47  4   10   0   112\n",
      "7           1   10   30    5  3    3   1    53\n",
      "8          13   24    9   17  0  108   0   171\n",
      "9           1   69   46    5  0    9  15   145\n",
      "All        71  568  514  126  7  188  26  1500\n",
      "\n",
      "\n",
      "              precision    recall  f1-score   support\n",
      "\n",
      "           1       0.68      0.24      0.35       204\n",
      "           2       0.52      0.96      0.68       311\n",
      "           3       0.76      0.97      0.85       405\n",
      "           4       0.00      0.00      0.00        79\n",
      "           5       0.00      0.00      0.00        20\n",
      "           6       0.37      0.42      0.39       112\n",
      "           7       0.43      0.06      0.10        53\n",
      "           8       0.57      0.63      0.60       171\n",
      "           9       0.58      0.10      0.18       145\n",
      "\n",
      "    accuracy                           0.61      1500\n",
      "   macro avg       0.43      0.37      0.35      1500\n",
      "weighted avg       0.57      0.61      0.54      1500\n",
      "\n"
     ]
    }
   ],
   "source": [
    "#Testing the model \n",
    "#Predicting using our  model\n",
    "y_pred = rf.predict(X_test)\n",
    "\n",
    "# Performance of the model\n",
    "# print(\"Accuracy: \", accuracy_score(y_test,y_pred))\n",
    "\n",
    "print(\"\\n\")\n",
    "print(pd.crosstab(y_test, y_pred, rownames=['True'], colnames=['Predicted'], margins=True))\n",
    "print(\"\\n\")\n",
    "print(classification_report(y_test, y_pred))"
   ]
  },
  {
   "cell_type": "markdown",
   "id": "9f45629c",
   "metadata": {},
   "source": [
    "# Conclusion"
   ]
  },
  {
   "cell_type": "markdown",
   "id": "444400a4",
   "metadata": {},
   "source": [
    "### After Training Multiple Models It have been observed that `Decision Tree` gave the better result with Accuracy on unseen data as `80%`"
   ]
  },
  {
   "cell_type": "markdown",
   "id": "3a3abda3",
   "metadata": {},
   "source": [
    "For improving the other models we can try more hyper parameter tuning with Grid Search and K Fold <br>\n",
    "We might have attempted other techniques to reduce overfitting in the Random Forest model, such as adding another tuning parameter, min samples leaf, and choosing a higher value for the range of values to be tweaked."
   ]
  },
  {
   "cell_type": "markdown",
   "id": "1fb509b7",
   "metadata": {},
   "source": [
    "The virus of class 2 and 3 has the most predicitons. The class imbalance problem should be resolved in model running. We can adjust class weight in the running model using the parameter class_weight. "
   ]
  },
  {
   "cell_type": "code",
   "execution_count": null,
   "id": "c9ec4cde",
   "metadata": {},
   "outputs": [],
   "source": []
  }
 ],
 "metadata": {
  "kernelspec": {
   "display_name": "Python 3 (ipykernel)",
   "language": "python",
   "name": "python3"
  },
  "language_info": {
   "codemirror_mode": {
    "name": "ipython",
    "version": 3
   },
   "file_extension": ".py",
   "mimetype": "text/x-python",
   "name": "python",
   "nbconvert_exporter": "python",
   "pygments_lexer": "ipython3",
   "version": "3.9.7"
  }
 },
 "nbformat": 4,
 "nbformat_minor": 5
}
